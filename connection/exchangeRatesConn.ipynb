{
 "cells": [
  {
   "cell_type": "code",
   "execution_count": 2,
   "metadata": {},
   "outputs": [
    {
     "name": "stdout",
     "output_type": "stream",
     "text": [
      "2017-10-27 17:22:00 UTC+0000\n"
     ]
    }
   ],
   "source": [
    "from yahoo_finance import Currency\n",
    "eurusd = Currency('EURUSD')\n",
    "\n",
    "print (eur_pln.get_trade_datetime())"
   ]
  },
  {
   "cell_type": "code",
   "execution_count": null,
   "metadata": {},
   "outputs": [
    {
     "name": "stdout",
     "output_type": "stream",
     "text": [
      "Writing to file  /Users/mitalipalsikar/Documents/year3project/Daily Rates/20171101ratesData.csv\n"
     ]
    }
   ],
   "source": [
    "import sys\n",
    "import json\n",
    "import time\n",
    "from apscheduler.schedulers.blocking import BlockingScheduler\n",
    "import datetime\n",
    "import csv\n",
    "from openexchangerates import OpenExchangeRatesClient\n",
    "\n",
    "fileName =  '/Users/mitalipalsikar/Documents/year3project/Daily Rates/' + datetime.datetime.now().strftime(\"%Y%m%d\") + \"ratesData.csv\"\n",
    "print(\"Writing to file \", fileName)\n",
    "with open(fileName, 'w') as csvFile:\n",
    "    csvWriter = csv.writer(csvFile)\n",
    "    csvWriter.writerow(['USDEUR', 'USDGBP', 'USDCHF', 'USDAUD', 'USDCAD', 'USDJPY'])\n",
    "def getLatestRates(client):\n",
    "    \n",
    "    latest = client.latest()['rates']\n",
    "    usdeur = latest['EUR']\n",
    "    usdgbp = latest['GBP']\n",
    "    usdchf = latest['CHF']\n",
    "    usdaud = latest['AUD']\n",
    "    usdcad = latest['CAD']\n",
    "    usdjpy = latest['JPY']\n",
    "    with open(fileName, 'a') as csvFile:\n",
    "        csvWriter = csv.writer(csvFile) \n",
    "        csvWriter.writerow([usdeur,usdgbp, usdchf, usdaud, usdcad, usdjpy])\n",
    "    \n",
    "    \n",
    "client = OpenExchangeRatesClient('2223f0c726484a48a187a4afad63eeff')\n",
    "\n",
    "scheduler = BlockingScheduler()\n",
    "scheduler.add_job(getLatestRates, 'interval', hours=1, args=[client])\n",
    "scheduler.start()\n"
   ]
  },
  {
   "cell_type": "code",
   "execution_count": null,
   "metadata": {
    "collapsed": true
   },
   "outputs": [],
   "source": []
  }
 ],
 "metadata": {
  "kernelspec": {
   "display_name": "Python 3",
   "language": "python",
   "name": "python3"
  },
  "language_info": {
   "codemirror_mode": {
    "name": "ipython",
    "version": 3
   },
   "file_extension": ".py",
   "mimetype": "text/x-python",
   "name": "python",
   "nbconvert_exporter": "python",
   "pygments_lexer": "ipython3",
   "version": "3.6.2"
  }
 },
 "nbformat": 4,
 "nbformat_minor": 2
}
